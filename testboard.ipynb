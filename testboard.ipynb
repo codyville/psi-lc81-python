{
 "cells": [
  {
   "cell_type": "code",
   "execution_count": 1,
   "metadata": {},
   "outputs": [
    {
     "name": "stdout",
     "output_type": "stream",
     "text": [
      "Keys: KeysView(<HDF5 file \"20180927_145027_console.h5\" (mode r)>)\n"
     ]
    }
   ],
   "source": [
    "import numpy as np\n",
    "import h5py\n",
    "from pathlib import Path\n",
    "\n",
    "data_folder = Path(\"U:\\\\Data\\\\Shifts\\\\270918 SF WSC vs Screen nonlinearity\\\\raw\\\\\")\n",
    "\n",
    "file_to_open = data_folder / '20180927_145027_console.h5'\n",
    "\n",
    "f = h5py.File(file_to_open, 'r')\n",
    "\n",
    "# List all groups\n",
    "print(\"Keys: %s\" % f.keys())\n",
    "a_group_key = list(f.keys())[0]\n",
    "\n",
    "# Get the data\n",
    "data = list(f[a_group_key])"
   ]
  },
  {
   "cell_type": "code",
   "execution_count": 2,
   "metadata": {},
   "outputs": [
    {
     "data": {
      "text/plain": [
       "['__DATA_TYPES__',\n",
       " 'background',\n",
       " 'experiment',\n",
       " 'general',\n",
       " 'logs',\n",
       " 'x_0001',\n",
       " 'x_0002',\n",
       " 'x_0003',\n",
       " 'x_0004']"
      ]
     },
     "execution_count": 2,
     "metadata": {},
     "output_type": "execute_result"
    }
   ],
   "source": [
    "list(f.keys())"
   ]
  },
  {
   "cell_type": "code",
   "execution_count": 13,
   "metadata": {},
   "outputs": [
    {
     "data": {
      "text/plain": [
       "['Timestamp',\n",
       " 'beam_ok',\n",
       " 'blm1',\n",
       " 'blm1_ws_mode',\n",
       " 'bpm1_q',\n",
       " 'bpm1_x',\n",
       " 'bpm1_y',\n",
       " 'bpm2_q',\n",
       " 'bpm2_x',\n",
       " 'bpm2_y',\n",
       " 'cur_cycle',\n",
       " 'm_pos',\n",
       " 'pulse_id',\n",
       " 'scanning',\n",
       " 'w_pos']"
      ]
     },
     "execution_count": 13,
     "metadata": {},
     "output_type": "execute_result"
    }
   ],
   "source": [
    "list(f['x_0001'].keys())\n",
    "list(f['x_0001/data'].keys())\n",
    "#f['experiment/energy_AR'][0]\n",
    "#f['logs'][0]"
   ]
  },
  {
   "cell_type": "code",
   "execution_count": 4,
   "metadata": {
    "collapsed": true
   },
   "outputs": [],
   "source": [
    "temp = f['x_0004']"
   ]
  },
  {
   "cell_type": "code",
   "execution_count": 5,
   "metadata": {},
   "outputs": [
    {
     "data": {
      "text/plain": [
       "<HDF5 group \"/x_0004\" (7 members)>"
      ]
     },
     "execution_count": 5,
     "metadata": {},
     "output_type": "execute_result"
    }
   ],
   "source": [
    "temp"
   ]
  },
  {
   "cell_type": "code",
   "execution_count": 6,
   "metadata": {},
   "outputs": [
    {
     "data": {
      "text/plain": [
       "['data', 'global_timestamp', 'meta', 'method', 'pid', 'processed', 'timestamp']"
      ]
     },
     "execution_count": 6,
     "metadata": {},
     "output_type": "execute_result"
    }
   ],
   "source": [
    "list(temp.keys())"
   ]
  },
  {
   "cell_type": "code",
   "execution_count": 7,
   "metadata": {},
   "outputs": [
    {
     "data": {
      "text/plain": [
       "<HDF5 group \"/x_0004/data\" (15 members)>"
      ]
     },
     "execution_count": 7,
     "metadata": {},
     "output_type": "execute_result"
    }
   ],
   "source": [
    "temp2 = temp['data']\n",
    "temp2"
   ]
  },
  {
   "cell_type": "code",
   "execution_count": 8,
   "metadata": {},
   "outputs": [
    {
     "data": {
      "text/plain": [
       "['Timestamp',\n",
       " 'beam_ok',\n",
       " 'blm1',\n",
       " 'blm1_ws_mode',\n",
       " 'bpm1_q',\n",
       " 'bpm1_x',\n",
       " 'bpm1_y',\n",
       " 'bpm2_q',\n",
       " 'bpm2_x',\n",
       " 'bpm2_y',\n",
       " 'cur_cycle',\n",
       " 'm_pos',\n",
       " 'pulse_id',\n",
       " 'scanning',\n",
       " 'w_pos']"
      ]
     },
     "execution_count": 8,
     "metadata": {},
     "output_type": "execute_result"
    }
   ],
   "source": [
    "list(temp2.keys())"
   ]
  },
  {
   "cell_type": "code",
   "execution_count": 9,
   "metadata": {},
   "outputs": [
    {
     "ename": "NameError",
     "evalue": "name 'blm1' is not defined",
     "output_type": "error",
     "traceback": [
      "\u001b[1;31m---------------------------------------------------------------------------\u001b[0m",
      "\u001b[1;31mNameError\u001b[0m                                 Traceback (most recent call last)",
      "\u001b[1;32m<ipython-input-9-2d9a27cec1c0>\u001b[0m in \u001b[0;36m<module>\u001b[1;34m()\u001b[0m\n\u001b[1;32m----> 1\u001b[1;33m \u001b[0mtemp3\u001b[0m \u001b[1;33m=\u001b[0m \u001b[0mtemp2\u001b[0m\u001b[1;33m[\u001b[0m\u001b[0mblm1\u001b[0m\u001b[1;33m]\u001b[0m\u001b[1;33m\u001b[0m\u001b[0m\n\u001b[0m\u001b[0;32m      2\u001b[0m \u001b[0mlist\u001b[0m\u001b[1;33m(\u001b[0m\u001b[0mtemp3\u001b[0m\u001b[1;33m.\u001b[0m\u001b[0mkeys\u001b[0m\u001b[1;33m(\u001b[0m\u001b[1;33m)\u001b[0m\u001b[1;33m)\u001b[0m\u001b[1;33m\u001b[0m\u001b[0m\n",
      "\u001b[1;31mNameError\u001b[0m: name 'blm1' is not defined"
     ]
    }
   ],
   "source": [
    "temp3 = temp2[blm1]\n",
    "list(temp3.keys())"
   ]
  },
  {
   "cell_type": "code",
   "execution_count": null,
   "metadata": {},
   "outputs": [],
   "source": [
    "temp2['blm1/value']"
   ]
  },
  {
   "cell_type": "code",
   "execution_count": null,
   "metadata": {},
   "outputs": [],
   "source": [
    "str1 = 'x_0001/'\n",
    "str2 = 'data/w_pos/value'\n",
    "\n",
    "str = str1 + str2\n",
    "\n",
    "str"
   ]
  }
 ],
 "metadata": {
  "kernelspec": {
   "display_name": "Python 3",
   "language": "python",
   "name": "python3"
  },
  "language_info": {
   "codemirror_mode": {
    "name": "ipython",
    "version": 3
   },
   "file_extension": ".py",
   "mimetype": "text/x-python",
   "name": "python",
   "nbconvert_exporter": "python",
   "pygments_lexer": "ipython3",
   "version": "3.6.6"
  }
 },
 "nbformat": 4,
 "nbformat_minor": 2
}
